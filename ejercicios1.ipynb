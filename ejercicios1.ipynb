{
  "nbformat": 4,
  "nbformat_minor": 0,
  "metadata": {
    "colab": {
      "provenance": [],
      "authorship_tag": "ABX9TyOf2v2NJj9k2Sphsb8PWioY",
      "include_colab_link": true
    },
    "kernelspec": {
      "name": "python3",
      "display_name": "Python 3"
    },
    "language_info": {
      "name": "python"
    }
  },
  "cells": [
    {
      "cell_type": "markdown",
      "metadata": {
        "id": "view-in-github",
        "colab_type": "text"
      },
      "source": [
        "<a href=\"https://colab.research.google.com/github/VBDeveloper2075/ArgentinaPrograma/blob/main/ejercicios1.ipynb\" target=\"_parent\"><img src=\"https://colab.research.google.com/assets/colab-badge.svg\" alt=\"Open In Colab\"/></a>"
      ]
    },
    {
      "cell_type": "markdown",
      "source": [
        "Ejercicio 1\n",
        "Escribir un programa que pregunte al usuario su edad y muestre por pantalla si es mayor de edad o no.\n"
      ],
      "metadata": {
        "id": "KTHp8N_kt1NW"
      }
    },
    {
      "cell_type": "code",
      "source": [
        "age = int(input(\"Ingrese su edad por favor: \"))\n",
        "\n",
        "if age < 18 :\n",
        "  print(\"Eres menor de edad\")\n",
        "else:\n",
        "  print(\"Eres mayor de edad\")"
      ],
      "metadata": {
        "colab": {
          "base_uri": "https://localhost:8080/"
        },
        "id": "NpuQF5dPuCBl",
        "outputId": "d9cf28ac-3c02-4610-f21e-f63003365f3e"
      },
      "execution_count": 2,
      "outputs": [
        {
          "output_type": "stream",
          "name": "stdout",
          "text": [
            "Ingrese su edad por favor: 23\n",
            "Eres mayor de edad\n"
          ]
        }
      ]
    },
    {
      "cell_type": "markdown",
      "source": [
        "Ejercicio 2\n",
        "Escribir un programa que pida al usuario dos números y devuelva su división. Si el usuario no introduce números debe devolver un aviso de error y si el divisor es cero también."
      ],
      "metadata": {
        "id": "g2DHZpQC-P37"
      }
    },
    {
      "cell_type": "code",
      "source": [
        "nro_1= int(input(\"Ingrese el dividendo \"))\n",
        "nro_2= int(input(\"Ingrese el divisor \"))\n",
        "if nro_2 == 0:\n",
        "    print(\"Error no es posible dividir por 0\")\n",
        "else:\n",
        "    print(nro_1/nro_2)"
      ],
      "metadata": {
        "colab": {
          "base_uri": "https://localhost:8080/"
        },
        "id": "BBcHFOfE-Vup",
        "outputId": "f2fed982-240a-43dd-b9c7-96749b9c6829"
      },
      "execution_count": 4,
      "outputs": [
        {
          "output_type": "stream",
          "name": "stdout",
          "text": [
            "Ingrese el dividendo 54\n",
            "Ingrese el divisor 6\n",
            "9.0\n"
          ]
        }
      ]
    },
    {
      "cell_type": "markdown",
      "source": [
        "Ejercicio 3\n",
        "Escribir un programa que pida al usuario un número entero y muestre por pantalla si es par o impar."
      ],
      "metadata": {
        "id": "_5sAM0K-_qKX"
      }
    },
    {
      "cell_type": "code",
      "source": [
        "nro = int(input(\"Ingrese un nro entero: \"))\n",
        "if nro % 2 == 0:\n",
        "    print(\"El número \" + str(nro) + \" es par\")\n",
        "else:\n",
        "    print(\"El número \" + str(nro) + \" es impar\")"
      ],
      "metadata": {
        "colab": {
          "base_uri": "https://localhost:8080/"
        },
        "id": "RAuvLrB1_vfF",
        "outputId": "3ec764a7-570f-422c-b49d-b319546d2910"
      },
      "execution_count": 6,
      "outputs": [
        {
          "output_type": "stream",
          "name": "stdout",
          "text": [
            "Ingrese un nro entero: 79\n",
            "El número 79 es impar\n"
          ]
        }
      ]
    },
    {
      "cell_type": "markdown",
      "source": [
        "Ejercicio 4\n",
        "Solicitar al usuario que ingrese dos números y mostrar cuál de los dos es menor. Considerar el caso en que ambos números son iguales.\n"
      ],
      "metadata": {
        "id": "zLrlCpjqAL3O"
      }
    },
    {
      "cell_type": "code",
      "source": [
        "nro_1= int(input(\"Ingrese un nro \"))\n",
        "nro_2= int(input(\"Ingrese otro nro \"))\n",
        "if nro_1 < nro_2:\n",
        "    print(\"El primero es menor\")\n",
        "elif nro_2 < nro_1:\n",
        "    print(\"El segundo es menor\")\n",
        "else:\n",
        "    print(\"Los nros son iguales\")"
      ],
      "metadata": {
        "colab": {
          "base_uri": "https://localhost:8080/"
        },
        "id": "3Gob392VA7dn",
        "outputId": "08646934-22a5-440a-a3c2-b197763bafaf"
      },
      "execution_count": 7,
      "outputs": [
        {
          "output_type": "stream",
          "name": "stdout",
          "text": [
            "Ingrese un nro 56\n",
            "Ingrese otro nro 65\n",
            "El primero es menor\n"
          ]
        }
      ]
    }
  ]
}