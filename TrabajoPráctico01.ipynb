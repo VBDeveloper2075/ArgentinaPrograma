{
  "cells": [
    {
      "cell_type": "markdown",
      "metadata": {
        "id": "view-in-github",
        "colab_type": "text"
      },
      "source": [
        "<a href=\"https://colab.research.google.com/github/VBDeveloper2075/ArgentinaPrograma/blob/main/TrabajoPr%C3%A1ctico01.ipynb\" target=\"_parent\"><img src=\"https://colab.research.google.com/assets/colab-badge.svg\" alt=\"Open In Colab\"/></a>"
      ]
    },
    {
      "cell_type": "markdown",
      "metadata": {
        "id": "dnIU4AqjZdXh"
      },
      "source": [
        "##Temas: Tipos de Datos simples. Variables. Entrada y Salida de datos por consola\n"
      ]
    },
    {
      "cell_type": "markdown",
      "source": [],
      "metadata": {
        "id": "gqtW0SKcI3mZ"
      }
    },
    {
      "cell_type": "markdown",
      "source": [],
      "metadata": {
        "id": "UGXjtZRYI4zY"
      }
    },
    {
      "cell_type": "markdown",
      "metadata": {
        "id": "jPc9QcaYZ1o6"
      },
      "source": [
        "## Ejercicio Nro 1\n",
        "Determinar el tipo de dato de las siguientes variables (doble clic para editar la tabla y completar los campos):\n",
        "\n",
        "|    | Variable         | Valor      | Tipo de dato   | Tipo de dato en Python |\n",
        "|----|------------------|------------|----------------|------------------------|\n",
        "1    | nombre_jugador   | \"Michael\"  | Cadena         | str                    |\n",
        "2    | puntaje          | 350        |    Entero            |        int                |\n",
        "3    | duracion_juego   | 120.5 |punto flotante |  float  |\n",
        "4    | esta_activo      | True       |      logico          |        booleno                |\n",
        "5    | deporte_favorito | \"Fútbol\"   |           logico     |            booleano            |\n",
        "6    | clasif_equipo    | 1   | entero |   int   |\n",
        "7    | goles_anotados   | 20         | entero |   int   |\n",
        "8    | asistencias      | 15         |entero |   int   |\n",
        "9    | porcentaje_completado | 72.5  |punto flotante |  float  |\n",
        "10   | num_jugadores    | 8          | entero |   int   |\n",
        "11   | nombre_comida    | \"Pizza\"    |         Cadena         | str                    |\n",
        "12   | tiempo_cocinado  | 30         | entero |   int   |\n",
        "13   | ingrediente      | \"queso\"    |      Cadena         | str                    |\n",
        "14   | es_picante       | False      |logico |  booleano |\n",
        "15   | destino_viaje    | \"París\"    |    Cadena   | str     |\n",
        "16   | duracion_estadia | 7          | entero |   int   |\n",
        "17   | calif_hotel      | 4.5        |punto flotante |  float  |\n",
        "18   | transporte       | \"Tren\"     |    Cadena         | str |\n",
        "19   | lugares | \"Museo del Louvre\" |Cadena      |   str      |\n",
        "20   | precio_boleto    | 25.99      |punto flotante |  float  |\n",
        "21   | nombre_atleta    | \"Serena\"   |     Cadena         | str                    |                    |\n",
        "22   | resultado_partido | \"Victoria\" | Cadena   | str     |\n",
        "23   | clasificacion    | 3          |entero |   int   |\n",
        "24   | nombre_torneo    | \"US Open\"  |      Cadena   | str   |\n",
        "25   | duracion_partido | 180        |entero |   int   |\n",
        "26   | calorias         | 250        |entero |   int   |\n",
        "27   | nombre_bebida    | \"Mojito\"   | Cadena         | str  |\n",
        "28   | contenido_alcohol | 15.5    |punto flotante |  float  |\n",
        "29   | es_organico    | True | logico       |booleno    |\n",
        "30   | pais_visitado    | \"Japón\"    | Cadena | str   |\n",
        "31   | ciudad    | \"Tokio\"    | Cadena  | str      |\n",
        "32   | atraccion_turistica | \"Monte Fuji\" |Cadena         | str  |\n",
        "33   | duracion_viaje   | 10         |entero |   int   |\n",
        "34   | duracion_vuelo   | 2.5       |punto flotante |  float  |\n",
        "35   | moneda           | \"Euro\"     | Cadena         | str  |\n",
        "36   | nombre_plato     | \"Sushi\"    | Cadena         | str  |\n",
        "37   | nivel_picante    | \"Medio\"    | Cadena         | str   |\n",
        "38   | precio           | 12.99      |punto flotante |  float  |\n",
        "39   | num_ingredientes | 7          | entero |   int   |\n",
        "40   | nombre_atleta    | \"LeBron\"   |Cadena         | str |\n",
        "41   | nombre_equipo    | \"Warriors\" | Cadena         | str  |\n",
        "42   | altura           | 203        |entero |   int   |\n",
        "43   | peso             | 98.5       |punto flotante |  float  |\n",
        "44   | precision_tiro   | 45.2       |punto flotante |  float  |\n",
        "45   | nombre_receta  | \"Lasagna\"  |Cadena | str      |\n",
        "46   | tiempo_preparacion | 60       | entero |   int   |\n",
        "47   | nivel_picante  | \"Suave\" |Cadena | str   |    \n",
        "48   | pais             | \"Grecia\"   |Cadena  | str  |\n",
        "49   | ciudad           | \"Atenas\"   |Cadena  | str    |\n",
        "50   | lanzamiento      | 2007       |entero |   int   |"
      ]
    },
    {
      "cell_type": "markdown",
      "source": [],
      "metadata": {
        "id": "HnouNrF9JPMH"
      }
    },
    {
      "cell_type": "markdown",
      "metadata": {
        "id": "JdcF7wACZFkh"
      },
      "source": [
        "## Ejercicio Nro 2\n",
        "Realiza un programa que simule un registro de usuarios para una plataforma tecnológica. Crea variables con datos básicos de diferentes usuarios, como nombre, edad, dirección de correo electrónico, nivel de acceso y si han aceptado los términos y condiciones. Luego, muestra un resumen de los datos ingresados para cada usuario.\n",
        "\n",
        "Para nivel de acceso podemos tener los siguiente valores:\n",
        "\n",
        "- Administrador\n",
        "- Invitado\n",
        "- Editor\n",
        "- Moderador\n",
        "- Desarrollador\n",
        "- Soporte técnico\n",
        "- Usuario básico\n",
        "- Usuario Premium\n",
        "\n",
        "Requisitos especiales:\n",
        "\n",
        "Utiliza variables de diferentes tipos de datos primitivos, como cadenas, enteros, flotantes y booleanos.\n",
        "Los valores de las variables deben representar datos ficticios, pero realistas, relacionados con el registro de usuarios en una plataforma tecnológica.\n",
        "Proporciona una opción para declarar los datos de múltiples usuarios y muestra los datos de todos los usuarios registrados al final.\n",
        "\n",
        "Para cada usuario, crea variables enumerando como `_1`, `_2`, `_3`, etc."
      ]
    },
    {
      "cell_type": "code",
      "source": [
        "#ejercicio 1\n",
        "# Datos de usuario 1\n",
        "Nombre_1 = \"Juan\"\n",
        "edad_1 = 25\n",
        "correo_1 = \"juan@user.com\"\n",
        "nivel_acceso_1 = \"Usuario Premium\"\n",
        "aceptado_terminos_1 = True\n",
        "\n",
        "# Datos de usuario 2\n",
        "Nombre_2 = \"Ana\"\n",
        "edad_2 = 30\n",
        "correo_2 = \"ana@user.com\"\n",
        "nivel_acceso_2 = \"Usuario básico\"\n",
        "aceptado_terminos_2 = False\n",
        "\n",
        "# Datos de usuario 3\n",
        "Nombre_3 = \"Carlos\"\n",
        "edad_3 = 40\n",
        "correo_3 = \"carlos@user.com\"\n",
        "nivel_acceso_3 = \"Administrador\"\n",
        "aceptado_terminos_3 = True\n",
        "\n",
        "# Datos de usuario 4\n",
        "Nombre_4 = \"Laura\"\n",
        "edad_4 = 35\n",
        "correo_4 = \"laura@user.com\"\n",
        "nivel_acceso_4 = \"Usuario Premium\"\n",
        "aceptado_terminos_4 = True\n",
        "\n",
        "# Datos de usuario 5\n",
        "Nombre_5 = \"Pedro\"\n",
        "edad_5 = 20\n",
        "correo_5 = \"laura@user.com\"\n",
        "nivel_acceso_5 = \"Usuario básico\"\n",
        "aceptado_terminos_5 = True\n",
        "\n",
        "# Mostrar resumen de datos\n",
        "print(\"Resumen de datos de usuarios registrados:  \" )\n",
        "print(\"\\nUsuario 1:  \" )\n",
        "print(\"Nombre:  \" , Nombre_1)\n",
        "print(\"Edad:  \", edad_1)\n",
        "print(\"Correo:  \", correo_1)\n",
        "print(\"Nivel de acceso:  \", nivel_acceso_1)\n",
        "print(\"Aceptado términos y condiciones:  \", aceptado_terminos_1)\n",
        "print(\"\\nUsuario 2: \")\n",
        "print(\"Nombre:  \", Nombre_2)\n",
        "print(\"Edad:  \", edad_2)\n",
        "print(\"Correo:  \", correo_2)\n",
        "print(\"Nivel de acceso:  \", nivel_acceso_2)\n",
        "print(\"Aceptado términos y condiciones:  \", aceptado_terminos_2)\n",
        "print(\"\\nUsuario 3:  \")\n",
        "print(\"Nombre:  \", Nombre_3)\n",
        "print(\"Edad:  \", edad_3)\n",
        "print(\"Correo:  \", correo_3)\n",
        "print(\"Nivel de acceso:   \", nivel_acceso_3)\n",
        "print(\"Aceptado términos y condiciones:  \", aceptado_terminos_3)\n",
        "print(\"\\nUsuario 4:  \")\n",
        "print(\"Nombre:  \", Nombre_4)\n",
        "print(\"Edad:  \", edad_4)\n",
        "print(\"Correo:  \", correo_4)\n",
        "print(\"Nivel de acceso:  \", nivel_acceso_4)\n",
        "print(\"Aceptado términos y condiciones:  \", aceptado_terminos_4)\n",
        "print(\"\\nUsuario 5:  \")\n",
        "print(\"Nombre:  \", Nombre_5)\n",
        "print(\"Edad:  \", edad_5)\n",
        "print(\"Correo:  \", correo_5)\n",
        "print(\"Nivel de acceso:  \", nivel_acceso_5)\n",
        "print(\"Aceptado términos y condiciones:  \", aceptado_terminos_5)\n",
        "\n",
        "print(\"FIN DEL PROGRAMA\")"
      ],
      "metadata": {
        "id": "_KXaUQmChjBD",
        "colab": {
          "base_uri": "https://localhost:8080/"
        },
        "outputId": "da2fdcd9-d42b-4061-ab36-030350d18100"
      },
      "execution_count": null,
      "outputs": [
        {
          "output_type": "stream",
          "name": "stdout",
          "text": [
            "Resumen de datos de usuarios registrados:  \n",
            "\n",
            "Usuario 1:  \n",
            "Nombre:   Juan\n",
            "Edad:   25\n",
            "Correo:   juan@user.com\n",
            "Nivel de acceso:   Usuario Premium\n",
            "Aceptado términos y condiciones:   True\n",
            "\n",
            "Usuario 2: \n",
            "Nombre:   Ana\n",
            "Edad:   30\n",
            "Correo:   ana@user.com\n",
            "Nivel de acceso:   Usuario básico\n",
            "Aceptado términos y condiciones:   False\n",
            "\n",
            "Usuario 3:  \n",
            "Nombre:   Carlos\n",
            "Edad:   40\n",
            "Correo:   carlos@user.com\n",
            "Nivel de acceso:    Administrador\n",
            "Aceptado términos y condiciones:   True\n",
            "\n",
            "Usuario 4:  \n",
            "Nombre:   Laura\n",
            "Edad:   35\n",
            "Correo:   laura@user.com\n",
            "Nivel de acceso:   Usuario Premium\n",
            "Aceptado términos y condiciones:   True\n",
            "\n",
            "Usuario 5:  \n",
            "Nombre:   Pedro\n",
            "Edad:   20\n",
            "Correo:   laura@user.com\n",
            "Nivel de acceso:   Usuario básico\n",
            "Aceptado términos y condiciones:   True\n",
            "FIN DEL PROGRAMA\n"
          ]
        }
      ]
    },
    {
      "cell_type": "markdown",
      "metadata": {
        "id": "a90PdqmFwrov"
      },
      "source": [
        "## Ejercicio Nro 3\n",
        "Escribe un programa que solicite al usuario ingresar su nombre, su edad, su y fecha de nacimiento.\n",
        "\n",
        "Luego, realiza un cálculo basado en la edad ingresada, solo con el año de nacimiento, calcula cuántos días de diferencia hay entre este año y el año de lanzamiento de Python (año 1991 por Guido Van Rossum). Por ejemplo, si solo hay 3 años de diferencia (antes o después del año de lanzamiento de Python), entonces debemos hacer $365 * 3$ que nos da 1905 días.\n",
        "\n",
        "\n",
        "Finalmente, muestra por pantalla el nombre del usuario, su edad y el resultado del cálculo realizado.\n",
        "\n",
        "Requisitos:\n",
        "\n",
        "1. Utiliza la función `input()` para obtener el nombre y la edad ingresados por el usuario.\n",
        "2. Realiza el cálculo basado en la edad.\n",
        "3. Muestra el nombre del usuario, su edad y el resultado del cálculo utilizando la función print()."
      ]
    },
    {
      "cell_type": "code",
      "source": [
        "#constante\n",
        "lanzamiento_de_Python = 1991\n",
        "# Ingreso de datos que pueden variar segun el usuario\n",
        "nombre = input(\"Ingrese su nombre: \")\n",
        "edad = int(input(\"Ingrese su edad: \"))\n",
        "print(\"Ahora ingresa tu fecha de nacimiento:  \" )\n",
        "dia_nacim = input(\"Ingrese su dia de nacimiento: \")\n",
        "mes_nacim = input(\"Ingrese su mes de nacimiento: \")\n",
        "anio_nacim = input(\"Ingrese su año de nacimiento: \")\n",
        "fecha_nacimiento = dia_nacim + \"/\" + mes_nacim + \"/\" + anio_nacim\n",
        "\n",
        "# Calculo de dias de diferencia entre el año de nacimiento y el año de lanzamiento de Python\n",
        "diferencia = lanzamiento_de_Python - int(anio_nacim)\n",
        "\n",
        "# Muestra de datos por consola\n",
        "print(\"Nombre: \", nombre)\n",
        "print(\"Edad: \", edad)\n",
        "print(\"Fecha de nacimiento: \", fecha_nacimiento)\n",
        "print(\"Diferencia de dias entre el año de lanzamiento de Python y el año de nacimiento: \", diferencia * 365)\n",
        "\n",
        "print(\"FIN DEL PROGRAMA\")\n"
      ],
      "metadata": {
        "id": "XWp5vn2OhkCd",
        "colab": {
          "base_uri": "https://localhost:8080/"
        },
        "outputId": "ad064aaa-07e5-435c-eb3f-07bd15c0ffc7"
      },
      "execution_count": null,
      "outputs": [
        {
          "output_type": "stream",
          "name": "stdout",
          "text": [
            "Ingrese su nombre: veronica\n",
            "Ingrese su edad: 48\n",
            "Ahora ingresa tu fecha de nacimiento:  \n",
            "Ingrese su dia de nacimiento: 22\n",
            "Ingrese su mes de nacimiento: 07\n",
            "Ingrese su año de nacimiento: 1975\n",
            "Nombre:  veronica\n",
            "Edad:  48\n",
            "Fecha de nacimiento:  22/07/1975\n",
            "Diferencia de dias entre el año de lanzamiento de Python y el año de nacimiento:  5840\n",
            "FIN DEL PROGRAMA\n"
          ]
        }
      ]
    },
    {
      "cell_type": "markdown",
      "metadata": {
        "id": "eayzOn6d2_ny"
      },
      "source": [
        "## Ejercicio Nro 4\n",
        "\n",
        "Dados los siguientes datos de un empleado:\n",
        "\n",
        "```python\n",
        "nombre = Maxi\n",
        "edad = 33\n",
        "titulo = \"Ingeniería en Software\"\n",
        "salario = 290_243.57 # en Python podemos utilizar el _ para hacer más legible un número, el intérprete lo ignora al realizar operaciones\n",
        "```\n",
        "\n",
        "Usa `f-strings` para mostrar la siguiente frase:\n",
        "\n",
        "\"Maxi, de 33 años, tiene un título de Ingeniería en Software y gana 290243.57 al mes. Sin embargo, con una promoción podría ganar 15% más. Esto es 333780.11, ganando 43536.54 más que antes.\"\n",
        "\n",
        "Adicional: Utiliza la función `input()` para personalizar los valores de todas las variables y realizar el mismo cálculo.\n",
        "\n"
      ]
    },
    {
      "cell_type": "code",
      "source": [
        "# Datos de Maxi\n",
        "nombre = \"Maxi\"\n",
        "edad = 33\n",
        "titulo = \"Ingeniería en Software\"\n",
        "salario = 290_243.57\n",
        "salario_con_promocion = salario + (salario * 0.15)\n",
        "mensaje = f\"{nombre}, de {edad} años, tiene un título de {titulo} y gana {salario} al mes. Sin embargo, con una promoción podría ganar 15% más. Esto es {salario_con_promocion}, ganando {salario_con_promocion - salario} más que antes.\"\n",
        "\n",
        "print(mensaje)\n",
        "\n",
        "# Adicional: Con datos del empleado\n",
        "nombre = input(\"Ingrese su nombre: \")\n",
        "edad = input(\"Ingrese su edad: \")\n",
        "titulo = input(\"Ingrese su titulo: \")\n",
        "salario = input(\"Ingrese su salario: \")\n",
        "\n",
        "# Calculo del salario con un 15% de aumento\n",
        "salario = float(salario)\n",
        "salario_con_promocion = salario + (salario * 0.15)\n",
        "\n",
        "# Mensaje\n",
        "mensaje = f\"{nombre}, de {edad} años, tiene un título de {titulo} y gana {salario} al mes. Sin embargo, con una promoción podría ganar 15% más. Esto es {salario_con_promocion}, ganando {salario_con_promocion - salario} más que antes.\"\n",
        "\n",
        "print(mensaje)"
      ],
      "metadata": {
        "id": "CFdHL5ythklH",
        "colab": {
          "base_uri": "https://localhost:8080/"
        },
        "outputId": "8e34fccc-f30f-4f1f-c05d-c723b0daa43e"
      },
      "execution_count": null,
      "outputs": [
        {
          "output_type": "stream",
          "name": "stdout",
          "text": [
            "Maxi, de 33 años, tiene un título de Ingeniería en Software y gana 290243.57 al mes. Sin embargo, con una promoción podría ganar 15% más. Esto es 333780.1055, ganando 43536.5355 más que antes.\n",
            "Ingrese su nombre: vero\n",
            "Ingrese su edad: 25\n",
            "Ingrese su titulo: docente\n",
            "Ingrese su salario: 300_000\n",
            "vero, de 25 años, tiene un título de docente y gana 300000.0 al mes. Sin embargo, con una promoción podría ganar 15% más. Esto es 345000.0, ganando 45000.0 más que antes.\n"
          ]
        }
      ]
    },
    {
      "cell_type": "markdown",
      "source": [
        "## Ejercicio Nro 5\n",
        "Usando **f-string** trabaja en el siguiente ejercicio:\n",
        "\n",
        "Se tomaron datos sobre un hábitat para osos panda. Se desea realizar un informe sobre los resultados medidos. Se contabilizarán los especímenes entre macho y hembra, y el total de los mismos. Se debe validar que se ingresó correctamente el total de especímenes.\n",
        "\n",
        "La reserva debe contar con un mínimo de 30 especímenes de cada sexo de la especie para garantizar su aptitud.\n",
        "\n",
        "Asímismo, podemos estimar que cada año, una hembra puede concebir 2 crías.\n",
        "\n",
        "Posteriormente obtendremos una salida con el siguiente formato.\n",
        "\n",
        "```\n",
        "Sistema de Medición de Aptitud de Reserva\n",
        "-----------------------------------------\n",
        "\n",
        "Ingrese el nombre de la reserva: LIFE-3411\n",
        "Ingrese la cantidad de machos: 34\n",
        "Ingrese la cantidad de hembras: 60\n",
        "Ingrese la cantidad de años que desea proyectar: 3\n",
        "\n",
        "\n",
        "En la reserva natural LIFE-3411 se cuentan con los siguientes especímenes de osos panda:\n",
        "\n",
        "Macho: 34\n",
        "Hembra: 60\n",
        "Total: 104\n",
        "\n",
        "Validación de conteo: True\n",
        "\n",
        "Cumplimiento de requisitos mínimos de la reserva: True\n",
        "\n",
        "Dentro de 3 años se estima que habrán 360 crías con la población inicial.\n",
        "```\n",
        "\n",
        "El usuario debe ingresar la cantidad de cada uno, así como los años que queremos calcular la cantidad proyectada de crías.\n",
        "\n",
        "Nota: Para obtener un booleano resultante de dos condiciones podemos utilizar el siguiente código.\n",
        "\n",
        "```python\n",
        "cantidad_machos = 34\n",
        "cantidad_hembras = 33\n",
        "cond_1 = cantidad_machos >= 30\n",
        "cond_2 = cantidad_hembras >= 30\n",
        "print(f\"Se cumplen ambas condiciones: {cond_1 and cond_2}\")\n",
        "```\n",
        "Salida:\n",
        "```\n",
        "True\n",
        "```\n",
        "\n",
        "\n",
        "\n",
        "\n"
      ],
      "metadata": {
        "id": "Np69ANQ5kaw5"
      }
    },
    {
      "cell_type": "code",
      "source": [
        "print(\"Sistema de Medición de Aptitud de Reserva\")\n",
        "print(\"-----------------------------------------\")\n",
        "\n",
        "reserva = input(\"Ingrese el nombre de la reserva: \")\n",
        "machos = int(input(\"Ingrese la cantidad de machos: \"))\n",
        "hembras = int(input(\"Ingrese la cantidad de hembras: \"))\n",
        "anios = int(input(\"Ingrese la cantidad de años que desea proyectar: \"))\n",
        "\n",
        "total = machos + hembras\n",
        "validacion = total >= 30\n",
        "cumplimiento = machos >= 30 and hembras >= 30\n",
        "crías = (total * 2 )* anios\n",
        "\n",
        "print(f\"\\nEn la reserva natural {reserva} se cuentan con los siguientes especímenes de Osos Panda:\\n\\n\\tMacho: {machos}\\n\\tHembra: {hembras}\\n\\tTotal: {total}\\n\\nValidación de conteo: {validacion}\\n\\nCumplimiento de requisitos mínimos de la reserva: {cumplimiento}\\n\\nDentro de {anios} años se estima que habrán {crías} crías con la población inicial.\")\n",
        "\n",
        "print(\"\\nFIN DEL PROGRAMA\\n\")"
      ],
      "metadata": {
        "id": "RohF32jilnUP",
        "colab": {
          "base_uri": "https://localhost:8080/"
        },
        "outputId": "39ccd5bf-16ac-4d9d-f50c-f06755a978dc"
      },
      "execution_count": 2,
      "outputs": [
        {
          "output_type": "stream",
          "name": "stdout",
          "text": [
            "Sistema de Medición de Aptitud de Reserva\n",
            "-----------------------------------------\n",
            "Ingrese el nombre de la reserva: CUMELEN\n",
            "Ingrese la cantidad de machos: 34\n",
            "Ingrese la cantidad de hembras: 67\n",
            "Ingrese la cantidad de años que desea proyectar: 4\n",
            "\n",
            "En la reserva natural CUMELEN se cuentan con los siguientes especímenes de Osos Panda:\n",
            "\n",
            "\tMacho: 34\n",
            "\tHembra: 67\n",
            "\tTotal: 101\n",
            "\n",
            "Validación de conteo: True\n",
            "\n",
            "Cumplimiento de requisitos mínimos de la reserva: True\n",
            "\n",
            "Dentro de 4 años se estima que habrán 808 crías con la población inicial.\n",
            "\n",
            "FIN DEL PROGRAMA\n",
            "\n"
          ]
        }
      ]
    },
    {
      "cell_type": "markdown",
      "metadata": {
        "id": "UWUPOC_o2_h6"
      },
      "source": [
        "## Ejercicio Nro 7\n",
        "En este ejercicio, trabajaremos con tres tipos de datos diferentes que representan aspectos de un ambiente oceánico:\n",
        "\n",
        "- Un `float` que representa la temperatura promedio del agua del mar en grados Celsius.\n",
        "- Un `int` que representa la profundidad del océano en metros.\n",
        "- Un `bool` que indica si es de día (True) o de noche (False).\n",
        "\n",
        "Tus tareas son las siguientes:\n",
        "\n",
        "Convierte la temperatura del agua del mar a un **entero**. Muestra el valor y el tipo de dato resultante en la pantalla.\n",
        "\n",
        "Convierte la profundidad del océano a una **cadena de texto**. Muestra el valor y el tipo de dato resultante en la pantalla.\n",
        "\n",
        "Convierte el booleano que indica si es de **día o de noche** a una cadena de texto. Muestra el valor y el tipo de dato resultante en la pantalla.\n",
        "\n",
        "Utilizando la concatenación de cadenas (+), crea una única cadena que describe la situación. Esta cadena debe incluir todos los datos convertidos en la forma correcta. Muestra el valor y el tipo de dato resultante en la pantalla.\n",
        "\n",
        "Recuerda usar la función type() para mostrar el tipo de cada variable en cada etapa del ejercicio.\n",
        "\n",
        "Deseamos tener una salida como la siguiente:\n",
        "```\n",
        "La temperatura del agua es de 16 grados. La profundidad del océano es de 3600 metros. ¿Es de día? False.\n",
        "```\n",
        "\n",
        "Recuerda que en este ejercicio no debemos utilizar f-strings para armar el resultado."
      ]
    },
    {
      "cell_type": "code",
      "source": [],
      "metadata": {
        "id": "p4BlbYvfpXFo"
      },
      "execution_count": null,
      "outputs": []
    },
    {
      "cell_type": "markdown",
      "source": [
        "## Ejercicio Nro 8\n",
        "\n",
        "En este ejercicio, vamos a trabajar con conceptos de economía. La fórmula de cálculo de interés compuesto es una fórmula muy relevante en la economía y finanzas. La tarea será construir una cadena de texto que describa el resultado del cálculo del interés compuesto.\n",
        "\n",
        "### Variables a utilizar\n",
        "\n",
        "1. `P` = Monto inicial\n",
        "2. `r` = Tasa de interés anual (flotante)\n",
        "3. `n` = Números de veces que se capitaliza el interés por año\n",
        "4. `t` = Tiempo en años\n",
        "5. $A = P (1 + r/n)^{nt}$ = Monto acumulado después de `t` años.\n",
        "\n",
        "El objetivo es crear una frase que siga la estructura:\n",
        "\n",
        "```\n",
        "Un monto inicial de P pesos, invertido durante t años a una tasa de interés anual de r%, compuesto n veces por año, se convertirá en A pesos.\n",
        "```\n",
        "\n",
        "\n"
      ],
      "metadata": {
        "id": "G1YA9hHOg5Mx"
      }
    },
    {
      "cell_type": "code",
      "source": [],
      "metadata": {
        "id": "rJcUIJf4_k6l"
      },
      "execution_count": null,
      "outputs": []
    },
    {
      "cell_type": "markdown",
      "source": [
        "## Ejercicio Nro 9\n",
        "\n",
        "Supongamos que estamos haciendo un análisis del crecimiento de suscriptores de Netflix. Contamos con las siguientes variables para trabajar.\n",
        "\n",
        "1. `S` = Número de suscriptores al inicio del año\n",
        "2. `g` = Tasa de crecimiento anual de suscriptores (flotante)\n",
        "3. `n` = Cantidad de años\n",
        "\n",
        "Queremos calcular cuántos suscriptores tendrá Netflix después de `n` años si mantiene una tasa constante de crecimiento. La fórmula a usar es $S_n = S * (1 + g)^n$\n",
        "\n",
        "El objetivo es crear una frase como la siguiente:\n",
        "\n",
        "```\n",
        "Si Netflix comienza con S suscriptores y mantiene una tasa de crecimiento anual constante del g%, después de n años tendrá Sn suscriptores.\n",
        "```"
      ],
      "metadata": {
        "id": "icCh9s67AYKH"
      }
    },
    {
      "cell_type": "code",
      "source": [],
      "metadata": {
        "id": "DWJhihCiBLPU"
      },
      "execution_count": null,
      "outputs": []
    },
    {
      "cell_type": "markdown",
      "source": [
        "## Ejercicio Nro 10\n",
        "\n",
        "Consideremos un trabajo en el análisis de ventas de productos para una tienda en línea. Tenemos la siguiente información disponible:\n",
        "\n",
        "- `producto`: Nombre del producto\n",
        "- `precio_unitario`: Precio por unidad\n",
        "- `cantidad_vendida`: Ventas del mes del producto\n",
        "- `mes`: Mes en que se realizaron las ventas\n",
        "- `ventas_anterior`: Ventas del mes anterior\n",
        "\n",
        "Las ventas totales las calculamos como:\n",
        "\n",
        "`ventas_totales`: `precio_unitario` * `cantidad_vendida`\n",
        "\n",
        "Con el dato de las ventas del mes anterior podemos calcular el crecimiento de las ventas con la fórmula `((ventas_totales - ventas_anterior) / ventas_anterior)`. A esto debemos convetirlo a porcentaje para representarlo como valor en el rango 0-100.\n",
        "\n",
        "Con esta información deseamos la siguiente salida:\n",
        "\n",
        "```python\n",
        "Producto: `producto`\n",
        "Precio unitario: $`precio_unitario` (con dos decimales)\n",
        "Cantidad ventidad: `cantidad vendida`\n",
        "Ventas totales: $`ventas_totales` (con dos decimales)\n",
        "Crecimiento de ventas: `crecimiento_ventas`% (con dos decimales)\n",
        "Mes: `mes`\n",
        "\n"
      ],
      "metadata": {
        "id": "P0OQl_iZBMGC"
      }
    },
    {
      "cell_type": "code",
      "source": [],
      "metadata": {
        "id": "4bcSOVYsBNMQ"
      },
      "execution_count": null,
      "outputs": []
    },
    {
      "cell_type": "markdown",
      "source": [
        "## Ejercicio Nro 11\n",
        "\n",
        "Nuestra última tarea es crear una intefaz sencilla para un personaje de un juego de RPG. Vamos a considerar los siguientes datos:\n",
        "\n",
        "1. `nombre`: Nombre del personaje\n",
        "2. `nivel`: El nivel actual del personaje\n",
        "3. `exp` : Experiencia actual del personaje\n",
        "4. `exp_sig_nivel`: Experiencia necesaria para alcanzar el siguiente nivel\n",
        "5. `vida`: Puntos de vida actuales del personaje\n",
        "6. `vida_max`: Cantida máxima de puntos\n",
        "\n",
        "Con esto organizar la información del siguiente modo:\n",
        "\n",
        "```\n",
        "╔══════════════════════════════╗\n",
        "║          Juego RPG           ║\n",
        "╠══════════════════════════════╣\n",
        "║ Nombre: Gandalf              ║\n",
        "║ Nivel: 5                     ║\n",
        "║ Experiencia: 213/500         ║\n",
        "║ Vida: 80/100                 ║\n",
        "╚══════════════════════════════╝\n",
        "```\n",
        "\n",
        "Utilizar alineación de texto para que el cuadro no pierda la forma."
      ],
      "metadata": {
        "id": "5e60C2ScGbW_"
      }
    },
    {
      "cell_type": "code",
      "source": [],
      "metadata": {
        "id": "YIQw51t5GdVp"
      },
      "execution_count": null,
      "outputs": []
    }
  ],
  "metadata": {
    "colab": {
      "provenance": [],
      "include_colab_link": true
    },
    "kernelspec": {
      "display_name": "Python 3 (ipykernel)",
      "language": "python",
      "name": "python3"
    },
    "language_info": {
      "codemirror_mode": {
        "name": "ipython",
        "version": 3
      },
      "file_extension": ".py",
      "mimetype": "text/x-python",
      "name": "python",
      "nbconvert_exporter": "python",
      "pygments_lexer": "ipython3",
      "version": "3.8.10"
    },
    "vscode": {
      "interpreter": {
        "hash": "6d850d8e90e60c3336e66e26b3917652b6d7c59c27178fa3ce4a1808cd55e75f"
      }
    }
  },
  "nbformat": 4,
  "nbformat_minor": 0
}